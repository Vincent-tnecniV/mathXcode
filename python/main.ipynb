{
 "cells": [
  {
   "cell_type": "code",
   "execution_count": 1,
   "metadata": {
    "collapsed": true,
    "ExecuteTime": {
     "end_time": "2023-05-21T23:59:20.065141600Z",
     "start_time": "2023-05-21T23:59:16.154302Z"
    }
   },
   "outputs": [],
   "source": [
    "import numpy as np\n",
    "import pandas as pd\n",
    "import matplotlib.pyplot as plt"
   ]
  },
  {
   "cell_type": "code",
   "execution_count": 2,
   "outputs": [
    {
     "name": "stdout",
     "output_type": "stream",
     "text": [
      "[[[0 1 1 0]\n",
      "  [1 0 1 1]\n",
      "  [1 1 0 1]\n",
      "  [0 1 1 1]]\n",
      "\n",
      " [[0 1 1 1]\n",
      "  [1 0 0 1]\n",
      "  [1 0 0 1]\n",
      "  [1 1 1 1]]]\n",
      "[[0 0 0 1 0 1]\n",
      " [1 1 0 1 0 1]]\n"
     ]
    }
   ],
   "source": [
    "# set up example\n",
    "# ex_grid = np.array([[[0,1,1,0],[1,0,1,1],[1,1,0,1],[0,1,1,1]]])\n",
    "grid = np.array([[[0,1,1,0], [1,0,1,1], [1,1,0,1], [0,1,1,1]],\n",
    "                    [[0,1,1,1], [1,0,0,1], [1,0,0,1], [1,1,1,1]]])\n",
    "# x, y, direction(axis,dir), counter, state\n",
    "stats = np.array([(0,0,0,1,0,1), (1,1,0,1,0,1)])\n",
    "print(grid)\n",
    "print(stats)"
   ],
   "metadata": {
    "collapsed": false,
    "ExecuteTime": {
     "end_time": "2023-05-21T23:59:20.133154400Z",
     "start_time": "2023-05-21T23:59:20.066140400Z"
    }
   }
  },
  {
   "cell_type": "code",
   "execution_count": 3,
   "outputs": [
    {
     "data": {
      "text/plain": "array([[0, 1, 1, 0],\n       [1, 0, 0, 1]])"
     },
     "execution_count": 3,
     "metadata": {},
     "output_type": "execute_result"
    }
   ],
   "source": [
    "# get row or column\n",
    "grid[np.arange(grid.shape[0]), stats[:, 0], :] * (1 - stats[:, 2]).reshape(-1, 1) + \\\n",
    "grid[np.arange(grid.shape[0]), :, stats[:, 0]] * (stats[:, 2]).reshape(-1, 1)"
   ],
   "metadata": {
    "collapsed": false,
    "ExecuteTime": {
     "end_time": "2023-05-21T23:59:20.158987400Z",
     "start_time": "2023-05-21T23:59:20.101513100Z"
    }
   }
  },
  {
   "cell_type": "code",
   "execution_count": 4,
   "outputs": [
    {
     "data": {
      "text/plain": "array([0, 1])"
     },
     "execution_count": 4,
     "metadata": {},
     "output_type": "execute_result"
    }
   ],
   "source": [
    "stats[np.arange(stats.shape[0]), stats[:, 2]]"
   ],
   "metadata": {
    "collapsed": false,
    "ExecuteTime": {
     "end_time": "2023-05-21T23:59:20.158987400Z",
     "start_time": "2023-05-21T23:59:20.124787300Z"
    }
   }
  },
  {
   "cell_type": "code",
   "execution_count": 4,
   "outputs": [],
   "source": [],
   "metadata": {
    "collapsed": false,
    "ExecuteTime": {
     "end_time": "2023-05-21T23:59:20.158987400Z",
     "start_time": "2023-05-21T23:59:20.143186500Z"
    }
   }
  }
 ],
 "metadata": {
  "kernelspec": {
   "display_name": "Python 3",
   "language": "python",
   "name": "python3"
  },
  "language_info": {
   "codemirror_mode": {
    "name": "ipython",
    "version": 2
   },
   "file_extension": ".py",
   "mimetype": "text/x-python",
   "name": "python",
   "nbconvert_exporter": "python",
   "pygments_lexer": "ipython2",
   "version": "2.7.6"
  }
 },
 "nbformat": 4,
 "nbformat_minor": 0
}
